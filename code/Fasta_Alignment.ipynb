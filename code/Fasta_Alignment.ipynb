{
 "cells": [
  {
   "cell_type": "code",
   "execution_count": 1,
   "metadata": {},
   "outputs": [],
   "source": [
    "from Bio import AlignIO"
   ]
  },
  {
   "cell_type": "code",
   "execution_count": 3,
   "metadata": {},
   "outputs": [],
   "source": [
    "from glob import glob"
   ]
  },
  {
   "cell_type": "code",
   "execution_count": 6,
   "metadata": {},
   "outputs": [
    {
     "name": "stdout",
     "output_type": "stream",
     "text": [
      "mafft mollusks_hemocyanin.fasta\n"
     ]
    }
   ],
   "source": [
    "# Found this on youtube\n",
    "\n",
    "for filename in glob(\"*.fasta\"):\n",
    "    with open(filename) as f:\n",
    "        output = str(filename)\n",
    "        output += \"-aligned.fasta\"\n",
    "        in_file = str(filename)\n",
    "        from Bio.Align.Applications import MafftCommandline\n",
    "        mafft_cline = MafftCommandline(input= in_file)\n",
    "        print(mafft_cline)\n",
    "        stdout, stderr = mafft_cline()\n",
    "        with open(output, \"w\") as handle:\n",
    "            handle.write(stdout)"
   ]
  },
  {
   "cell_type": "code",
   "execution_count": 7,
   "metadata": {},
   "outputs": [
    {
     "name": "stdout",
     "output_type": "stream",
     "text": [
      "mollusks_hemocyanin.fasta\n",
      "mollusks_hemocyanin.fasta-aligned.fasta\n",
      "Untitled.ipynb\n"
     ]
    }
   ],
   "source": [
    "%%bash\n",
    "\n",
    "ls"
   ]
  },
  {
   "cell_type": "code",
   "execution_count": 10,
   "metadata": {},
   "outputs": [
    {
     "name": "stdout",
     "output_type": "stream",
     "text": [
      "SingleLetterAlphabet() alignment with 194 rows and 5618 columns\n",
      "----------------------------------LVQF------...--- CAC20588.1\n",
      "---------------------------MALLWSFLA--------...--- QCX35557.1\n",
      "--------------------------------------------...--- ADT91166.1\n",
      "--------------------------------------------...--- ADT91165.1\n",
      "--------------------------------------------...--- ADT91164.1\n",
      "--------------------------------------------...--- ADT91163.1\n",
      "--------------------------------------------...--- AAQ03083.1\n",
      "-------------MRHLNHLPLLYLTVILTFWMTGL--------...--- AGV74427.1\n",
      "--------------------------------------------...--- AAA29390.1\n",
      "--------------------------------------------...--- CBW46988.1\n",
      "--------------------------------------------...--- CAG47101.2\n",
      "--------------------------------------------...--- CAG47102.1\n",
      "--------------------------------------------...--- CAG47100.1\n",
      "--------------------------------------------...--- ACF70600.1\n",
      "--------------------------------------------...--- ADT91171.1\n",
      "--------------------------------------------...--- ADT91170.1\n",
      "--------------------------------------------...--- ADT91169.1\n",
      "--------------------------------------------...--- ADT91168.1\n",
      "...\n",
      "---------------------------MATHWHSLL--------...--- CAF03590.1\n"
     ]
    }
   ],
   "source": [
    "align = AlignIO.parse(\"mollusks_hemocyanin.fasta-aligned.fasta\", \"fasta\")\n",
    "print(align)\n"
   ]
  }
 ],
 "metadata": {
  "kernelspec": {
   "display_name": "Python 3",
   "language": "python",
   "name": "python3"
  },
  "language_info": {
   "codemirror_mode": {
    "name": "ipython",
    "version": 3
   },
   "file_extension": ".py",
   "mimetype": "text/x-python",
   "name": "python",
   "nbconvert_exporter": "python",
   "pygments_lexer": "ipython3",
   "version": "3.7.6"
  },
  "toc": {
   "base_numbering": 1,
   "nav_menu": {},
   "number_sections": true,
   "sideBar": true,
   "skip_h1_title": false,
   "title_cell": "Table of Contents",
   "title_sidebar": "Contents",
   "toc_cell": false,
   "toc_position": {},
   "toc_section_display": true,
   "toc_window_display": false
  }
 },
 "nbformat": 4,
 "nbformat_minor": 4
}
