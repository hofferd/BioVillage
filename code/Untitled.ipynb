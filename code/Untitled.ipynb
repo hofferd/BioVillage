{
 "cells": [
  {
   "cell_type": "code",
   "execution_count": 1,
   "metadata": {},
   "outputs": [],
   "source": [
    "from Bio import AlignIO"
   ]
  },
  {
   "cell_type": "code",
   "execution_count": 3,
   "metadata": {},
   "outputs": [],
   "source": [
    "from glob import glob"
   ]
  },
  {
   "cell_type": "code",
   "execution_count": 6,
   "metadata": {},
   "outputs": [
    {
     "name": "stdout",
     "output_type": "stream",
     "text": [
      "mafft mollusks_hemocyanin.fasta\n"
     ]
    }
   ],
   "source": [
    "for filename in glob(\"*.fasta\"):\n",
    "    with open(filename) as f:\n",
    "        output = str(filename)\n",
    "        output += \"-aligned.fasta\"\n",
    "        in_file = str(filename)\n",
    "        from Bio.Align.Applications import MafftCommandline\n",
    "        mafft_cline = MafftCommandline(input= in_file)\n",
    "        print(mafft_cline)\n",
    "        stdout, stderr = mafft_cline()\n",
    "        with open(output, \"w\") as handle:\n",
    "            handle.write(stdout)"
   ]
  },
  {
   "cell_type": "code",
   "execution_count": 7,
   "metadata": {},
   "outputs": [
    {
     "name": "stdout",
     "output_type": "stream",
     "text": [
      "mollusks_hemocyanin.fasta\n",
      "mollusks_hemocyanin.fasta-aligned.fasta\n",
      "Untitled.ipynb\n"
     ]
    }
   ],
   "source": [
    "%%bash\n",
    "\n",
    "ls"
   ]
  },
  {
   "cell_type": "code",
   "execution_count": 10,
   "metadata": {},
   "outputs": [
    {
     "name": "stdout",
     "output_type": "stream",
     "text": [
      "SingleLetterAlphabet() alignment with 194 rows and 5618 columns\n",
      "----------------------------------LVQF------...--- CAC20588.1\n",
      "---------------------------MALLWSFLA--------...--- QCX35557.1\n",
      "--------------------------------------------...--- ADT91166.1\n",
      "--------------------------------------------...--- ADT91165.1\n",
      "--------------------------------------------...--- ADT91164.1\n",
      "--------------------------------------------...--- ADT91163.1\n",
      "--------------------------------------------...--- AAQ03083.1\n",
      "-------------MRHLNHLPLLYLTVILTFWMTGL--------...--- AGV74427.1\n",
      "--------------------------------------------...--- AAA29390.1\n",
      "--------------------------------------------...--- CBW46988.1\n",
      "--------------------------------------------...--- CAG47101.2\n",
      "--------------------------------------------...--- CAG47102.1\n",
      "--------------------------------------------...--- CAG47100.1\n",
      "--------------------------------------------...--- ACF70600.1\n",
      "--------------------------------------------...--- ADT91171.1\n",
      "--------------------------------------------...--- ADT91170.1\n",
      "--------------------------------------------...--- ADT91169.1\n",
      "--------------------------------------------...--- ADT91168.1\n",
      "...\n",
      "---------------------------MATHWHSLL--------...--- CAF03590.1\n"
     ]
    }
   ],
   "source": [
    "align = AlignIO.parse(\"mollusks_hemocyanin.fasta-aligned.fasta\", \"fasta\")\n",
    "print(align)\n"
   ]
  },
  {
   "cell_type": "code",
   "execution_count": 14,
   "metadata": {},
   "outputs": [
    {
     "name": "stdout",
     "output_type": "stream",
     "text": [
      "TTCCGGAATCACACCGCCAACCGGACCGGGTTAGGTCTGGCACAACACGCCAGTGTGCCACGCCACATTTACGTTTCCTACTGACGGT\n"
     ]
    },
    {
     "data": {
      "text/plain": [
       "'UUCCGGAAUCACACCGCCAACCGGACCGGGUUAGGUCUGGCACAACACGCCAGUGUGCCACGCCACAUUUACGUUUCCUACUGACGGU'"
      ]
     },
     "execution_count": 14,
     "metadata": {},
     "output_type": "execute_result"
    }
   ],
   "source": [
    "import numpy as np\n",
    "from timeit import default_timer as timer\n",
    "dna = [\"A\", \"C\", \"G\", \"T\"]\n",
    "\n",
    "# Create a random DNA string and a random search term\n",
    "dna_string = \"\".join(np.random.choice(dna, 88))\n",
    "print(dna_string)\n",
    "\n",
    "def protein_shaker(dna):\n",
    "    # First, we must replace the T in DNA to a U in RNA\n",
    "    rna = dna.replace(\"T\", \"U\")\n",
    "    \n",
    "    # Next we need to \n",
    "\n",
    "protein_shaker(dna_string)"
   ]
  },
  {
   "cell_type": "code",
   "execution_count": 23,
   "metadata": {},
   "outputs": [],
   "source": [
    "rna_codon = {\"UUU\" : \"F\", \n",
    "             \"CUU\" : \"L\", \n",
    "             \"AUU\" : \"I\", \n",
    "             \"GUU\" : \"V\",\n",
    "             \"UUC\" : \"F\", \n",
    "             \"CUC\" : \"L\", \n",
    "             \"AUC\" : \"I\", \n",
    "             \"GUC\" : \"V\",\n",
    "            \"UUA\" : \"L\", \n",
    "             \"CUA\" : \"L\", \n",
    "             \"AUA\" : \"I\", \n",
    "             \"GUA\" : \"V\",\n",
    "            \"UUG\" : \"L\", \n",
    "             \"CUG\" : \"L\", \n",
    "             \"AUG\" : \"M\", \n",
    "             \"GUG\" : \"V\",\n",
    "            \"UCU\" : \"S\", \n",
    "             \"CCU\" : \"P\", \n",
    "             \"ACU\" : \"T\", \n",
    "             \"GCU\" : \"A\",\n",
    "            \"UCC\" : \"S\", \n",
    "             \"CCC\" : \"P\", \n",
    "             \"ACC\" : \"T\", \n",
    "             \"GCC\" : \"A\",\n",
    "            \"UCA\" : \"S\", \n",
    "             \"CCA\" : \"P\", \n",
    "             \"ACA\" : \"T\", \n",
    "             \"GCA\" : \"A\",\n",
    "            \"UCG\" : \"S\", \n",
    "             \"CCG\" : \"P\", \n",
    "             \"ACG\" : \"T\", \n",
    "             \"GCG\" : \"A\",\n",
    "            \"UAU\" : \"Y\", \n",
    "             \"CAU\" : \"H\", \n",
    "             \"AAU\" : \"N\", \n",
    "             \"GAU\" : \"D\",\n",
    "            \"UAC\" : \"Y\", \n",
    "             \"CAC\" : \"H\", \n",
    "             \"AAC\" : \"N\", \n",
    "             \"GAC\" : \"D\",\n",
    "            \"UAA\" : \"STOP\", \"CAA\" : \"Q\", \"AAA\" : \"K\", \"GAA\" : \"E\",\n",
    "            \"UAG\" : \"STOP\", \"CAG\" : \"Q\", \"AAG\" : \"K\", \"GAG\" : \"E\",\n",
    "            \"UGU\" : \"C\", \"CGU\" : \"R\", \"AGU\" : \"S\", \"GGU\" : \"G\",\n",
    "            \"UGC\" : \"C\", \"CGC\" : \"R\", \"AGC\" : \"S\", \"GGC\" : \"G\",\n",
    "            \"UGA\" : \"STOP\", \"CGA\" : \"R\", \"AGA\" : \"R\", \"GGA\" : \"G\",\n",
    "            \"UGG\" : \"W\", \"CGG\" : \"R\", \"AGG\" : \"R\", \"GGG\" : \"G\" \n",
    "           }\n",
    "\n",
    "better = sorted(rna_codon.items(), key=lambda x: x[1], reverse=False)"
   ]
  },
  {
   "cell_type": "code",
   "execution_count": 27,
   "metadata": {},
   "outputs": [
    {
     "data": {
      "text/plain": [
       "[('GCU', 'A'),\n",
       " ('GCC', 'A'),\n",
       " ('GCA', 'A'),\n",
       " ('GCG', 'A'),\n",
       " ('UGU', 'C'),\n",
       " ('UGC', 'C'),\n",
       " ('GAU', 'D'),\n",
       " ('GAC', 'D'),\n",
       " ('GAA', 'E'),\n",
       " ('GAG', 'E'),\n",
       " ('UUU', 'F'),\n",
       " ('UUC', 'F'),\n",
       " ('GGU', 'G'),\n",
       " ('GGC', 'G'),\n",
       " ('GGA', 'G'),\n",
       " ('GGG', 'G'),\n",
       " ('CAU', 'H'),\n",
       " ('CAC', 'H'),\n",
       " ('AUU', 'I'),\n",
       " ('AUC', 'I'),\n",
       " ('AUA', 'I'),\n",
       " ('AAA', 'K'),\n",
       " ('AAG', 'K'),\n",
       " ('CUU', 'L'),\n",
       " ('CUC', 'L'),\n",
       " ('UUA', 'L'),\n",
       " ('CUA', 'L'),\n",
       " ('UUG', 'L'),\n",
       " ('CUG', 'L'),\n",
       " ('AUG', 'M'),\n",
       " ('AAU', 'N'),\n",
       " ('AAC', 'N'),\n",
       " ('CCU', 'P'),\n",
       " ('CCC', 'P'),\n",
       " ('CCA', 'P'),\n",
       " ('CCG', 'P'),\n",
       " ('CAA', 'Q'),\n",
       " ('CAG', 'Q'),\n",
       " ('CGU', 'R'),\n",
       " ('CGC', 'R'),\n",
       " ('CGA', 'R'),\n",
       " ('AGA', 'R'),\n",
       " ('CGG', 'R'),\n",
       " ('AGG', 'R'),\n",
       " ('UCU', 'S'),\n",
       " ('UCC', 'S'),\n",
       " ('UCA', 'S'),\n",
       " ('UCG', 'S'),\n",
       " ('AGU', 'S'),\n",
       " ('AGC', 'S'),\n",
       " ('UAA', 'STOP'),\n",
       " ('UAG', 'STOP'),\n",
       " ('UGA', 'STOP'),\n",
       " ('ACU', 'T'),\n",
       " ('ACC', 'T'),\n",
       " ('ACA', 'T'),\n",
       " ('ACG', 'T'),\n",
       " ('GUU', 'V'),\n",
       " ('GUC', 'V'),\n",
       " ('GUA', 'V'),\n",
       " ('GUG', 'V'),\n",
       " ('UGG', 'W'),\n",
       " ('UAU', 'Y'),\n",
       " ('UAC', 'Y')]"
      ]
     },
     "execution_count": 27,
     "metadata": {},
     "output_type": "execute_result"
    }
   ],
   "source": [
    "{\"name\": ,\n",
    "       \"code\": ,\n",
    "       \"letter_code\": ,\n",
    "       \"formula\": ,\n",
    "       \"molar_mass\": ,\n",
    "       \"COOH_pKa\": ,\n",
    "       \"NH3_pKa\": ,\n",
    "       \"polarity\": ,\n",
    "       \"codons\": [],\n",
    "       \"essential\": }\n",
    "\n",
    "ala = {\"name\": \"alanine\",\n",
    "       \"code\": \"A\",\n",
    "       \"letter_code\": \"ala\",\n",
    "       \"formula\": \"C3H7NO2\",\n",
    "       \"molar_mass\": 89.09,\n",
    "       \"COOH_pKa\": 2.35,\n",
    "       \"NH3_pKa\": 9.87,\n",
    "       \"polarity\": \"non\",\n",
    "       \"codons\": [\"GCU\", \"GCC\", \"GCA\", \"GCG\"],\n",
    "       \"essential\": \"non\"}\n",
    "\n",
    "arg =  {\"name\": \"arginine\",\n",
    "       \"code\": \"R\",\n",
    "       \"letter_code\": \"arg\",\n",
    "       \"formula\": \"\",\n",
    "       \"molar_mass\": ,\n",
    "       \"COOH_pKa\": ,\n",
    "       \"NH3_pKa\": ,\n",
    "       \"polarity\": ,\n",
    "       \"codons\": [],\n",
    "       \"essential\": }\n",
    "\n",
    "       \n",
    "\n",
    "arginine - arg - R (gif, interactive)\n",
    "asparagine - asn - N (gif, interactive)\n",
    "aspartic acid - asp - D (gif, interactive)\n",
    "cysteine - cys - C (gif, interactive)\n",
    "glutamine - gln - Q (gif, interactive)\n",
    "glutamic acid - glu - E (gif, interactive)\n",
    "glycine - gly - G (gif, interactive)\n",
    "histidine - his - H (gif, interactive)\n",
    "isoleucine - ile - I (gif, interactive)\n",
    "leucine - leu - L (gif, interactive)\n",
    "lysine - lys - K (gif, interactive)\n",
    "methionine - met - M (gif, interactive)\n",
    "phenylalanine - phe - F (gif, interactive)\n",
    "proline - pro - P (gif, interactive)\n",
    "serine - ser - S (gif, interactive)\n",
    "threonine - thr - T (gif, interactive)\n",
    "tryptophan - trp - W (gif, interactive)\n",
    "tyrosine - tyr - Y (gif, interactive)\n",
    "valine - val - V (gif, interactive)"
   ]
  },
  {
   "cell_type": "code",
   "execution_count": null,
   "metadata": {},
   "outputs": [],
   "source": []
  }
 ],
 "metadata": {
  "kernelspec": {
   "display_name": "Python 3",
   "language": "python",
   "name": "python3"
  },
  "language_info": {
   "codemirror_mode": {
    "name": "ipython",
    "version": 3
   },
   "file_extension": ".py",
   "mimetype": "text/x-python",
   "name": "python",
   "nbconvert_exporter": "python",
   "pygments_lexer": "ipython3",
   "version": "3.7.6"
  },
  "toc": {
   "base_numbering": 1,
   "nav_menu": {},
   "number_sections": true,
   "sideBar": true,
   "skip_h1_title": false,
   "title_cell": "Table of Contents",
   "title_sidebar": "Contents",
   "toc_cell": false,
   "toc_position": {},
   "toc_section_display": true,
   "toc_window_display": false
  }
 },
 "nbformat": 4,
 "nbformat_minor": 4
}
